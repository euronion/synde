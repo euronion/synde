{
 "cells": [
  {
   "cell_type": "markdown",
   "metadata": {},
   "source": [
    "# Example figure plotting\n",
    "\n",
    "This notebook creates the example figures stored in `doc/figures` and shown in the `README.md` file."
   ]
  },
  {
   "cell_type": "code",
   "execution_count": null,
   "metadata": {},
   "outputs": [],
   "source": [
    "import xarray as xr\n",
    "import pandas as pd\n",
    "import seaborn as sns\n",
    "import matplotlib.pyplot as plt\n",
    "from pathlib import Path\n",
    "\n",
    "sns.set(rc={'figure.figsize':(15,15)})\n",
    "\n",
    "paths = Path(\"./results/ssp2-2.6/\")\n",
    "paths = list(paths.rglob('Europe.nc'))"
   ]
  },
  {
   "cell_type": "code",
   "execution_count": null,
   "metadata": {},
   "outputs": [],
   "source": [
    "fig, axes = plt.subplots(ncols=3, nrows=3, sharey='row')\n",
    "axes = [ax for l in axes for ax in l]\n",
    "\n",
    "for (path, ax) in zip(paths, axes):\n",
    "\n",
    "    year = path.parts[2]\n",
    "    era_year = path.parts[3]\n",
    "\n",
    "    data = xr.open_dataarray(path)\n",
    "    data = data.sel(region_code='DE')\n",
    "\n",
    "    df = data.to_dataframe().reset_index()\n",
    "    sns.violinplot(x=df['region_code'],y=df['Electricity demand']\n",
    "                  #, label=f'Year: {year} | {era_year}'\n",
    "                  , ax=ax)\n",
    "    \n",
    "    ax.set_title(f'Year: {year} | {era_year}')\n",
    "    ax.set_xlabel('')\n",
    "    ax.set_ylabel('Electricity demand [MWh]')\n",
    "    \n",
    "plt.savefig('doc/figures/DE_violin-plot_multi-years_multi-erayears.png', dpi=150)"
   ]
  },
  {
   "cell_type": "code",
   "execution_count": null,
   "metadata": {},
   "outputs": [],
   "source": [
    "fig, axes = plt.subplots(ncols=1, nrows=3, sharey='row')\n",
    "axes = [e for l in [[ax]*3 for ax in axes] for e in l]\n",
    "\n",
    "for (path, ax) in zip(paths, axes):\n",
    "\n",
    "    year = path.parts[2]\n",
    "    era_year = path.parts[3]\n",
    "\n",
    "    data = xr.open_dataarray(path)\n",
    "    data = data.sel(region_code='DE')\n",
    "    \n",
    "    data.groupby('time.weekofyear').sum().plot(ax=ax, label=f'{era_year}')\n",
    "    \n",
    "    ax.set_title(f'SSP2-2.6 for {year}')\n",
    "    ax.legend()\n",
    "    ax.set_ylabel('Electricity demand [MWh]')\n",
    "    \n",
    "plt.savefig('doc/figures/DE_weekly-demand_multi-years_multi-erayears.png', dpi=150)"
   ]
  },
  {
   "cell_type": "code",
   "execution_count": null,
   "metadata": {},
   "outputs": [],
   "source": [
    "fig, axes = plt.subplots(ncols=1, nrows=3, sharey='row')\n",
    "axes = [e for l in [[ax]*3 for ax in axes] for e in l]\n",
    "\n",
    "for (path, ax) in zip(paths, axes):\n",
    "    \n",
    "    year = path.parts[2]\n",
    "    era_year = path.parts[3]\n",
    "    \n",
    "    data = xr.open_dataarray(path)\n",
    "    data = data.sel(region_code='DE')\n",
    "    \n",
    "    time = pd.date_range(f\"{year}\",periods=8760,freq='H')\n",
    "    data = data.assign_coords({'time':time})\n",
    "        \n",
    "    data = data.isel(time=slice(900,1048))\n",
    "    \n",
    "    data.plot(ax=ax, label=f'{era_year}')\n",
    "    \n",
    "    ax.set_title(f'SSP2-2.6 for {year}')\n",
    "    ax.legend()\n",
    "    ax.set_ylabel('Electricity demand [MWh]')\n",
    "    ax.set_xlabel('')\n",
    "    \n",
    "plt.savefig('doc/figures/DE_hourly-demand-excerpt_multi-years_multi-erayears.png', dpi=150)"
   ]
  },
  {
   "cell_type": "code",
   "execution_count": null,
   "metadata": {},
   "outputs": [],
   "source": [
    "import geopandas as gpd\n",
    "import numpy as np \n",
    "import pycountry as pyc\n",
    "import matplotlib as mpl\n",
    "\n",
    "data = None\n",
    "data = xr.open_mfdataset(\"results/ssp2-2.6/2030/era5_2013/*.nc\", combine=\"nested\")\n",
    "\n",
    "data = data.sum(dim='time')\n",
    "\n",
    "# GADM data; manually download and extract\n",
    "# Source: https://biogeo.ucdavis.edu/data/gadm3.6/gadm36_gpkg.zip\n",
    "world = gpd.read_file('../resources/gadm36_levels.gpkg')\n",
    "\n",
    "plot_data = pd.merge(\n",
    "    left=world,\n",
    "    right=data.to_dataframe(),\n",
    "    left_on='NAME_0',\n",
    "    right_on='region_name',\n",
    "    how='inner')\n",
    "\n",
    "plot_data.loc[plot_data['Electricity demand'] == 0., 'Electricity demand'] = np.NaN\n",
    "\n",
    "fig, ax = plt.subplots(1, 1, figsize=(16,10))\n",
    "\n",
    "plot_data.plot(column='Electricity demand',cmap='viridis',\n",
    "        norm=mpl.colors.LogNorm(vmin=1, vmax=plot_data['Electricity demand'].max()),\n",
    "        missing_kwds=dict(color='grey'),\n",
    "        ax=ax,\n",
    "        legend=True,\n",
    "        legend_kwds={'label': \"Demand [MWh] (missing countries in gray)\", 'orientation': \"horizontal\"})\n",
    "\n",
    "fig.suptitle(\"Annual electricity demand 2030 (SSP2, RCP2.6)\")\n",
    "fig.tight_layout()\n",
    "\n",
    "plt.savefig('doc/figures/world_annual-demand_2030.png', dpi=150)"
   ]
  }
 ],
 "metadata": {
  "kernelspec": {
   "display_name": "Python [conda env:synde]",
   "language": "python",
   "name": "conda-env-synde-py"
  },
  "language_info": {
   "codemirror_mode": {
    "name": "ipython",
    "version": 3
   },
   "file_extension": ".py",
   "mimetype": "text/x-python",
   "name": "python",
   "nbconvert_exporter": "python",
   "pygments_lexer": "ipython3",
   "version": "3.9.6"
  }
 },
 "nbformat": 4,
 "nbformat_minor": 4
}
