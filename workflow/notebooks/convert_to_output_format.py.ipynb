{
 "cells": [
  {
   "cell_type": "code",
   "execution_count": 2,
   "id": "b653b89f",
   "metadata": {},
   "outputs": [],
   "source": [
    "import h5py\n",
    "import tables # Required h5py to work properly here\n",
    "import numpy as np\n",
    "from pathlib import Path\n",
    "import pandas as pd\n",
    "import xarray as xr\n",
    "import yaml\n",
    "\n",
    "import logging\n",
    "logger = logging.getLogger(__name__)"
   ]
  },
  {
   "cell_type": "code",
   "execution_count": null,
   "id": "ff4edeec",
   "metadata": {},
   "outputs": [],
   "source": [
    "if __name__ == \"__main__\":\n",
    "\n",
    "    region_fn = snakemake.input[\"region_definitions\"]\n",
    "\n",
    "    with open(region_fn, \"r\") as f:\n",
    "        regions = yaml.safe_load(f)\n",
    "\n",
    "    region = regions[\"regions\"][snakemake.wildcards.region]\n",
    "\n",
    "    region = sorted(region) # Do this also in region creation (in GEGIS) to ensure same order\n",
    "\n",
    "    era_year = int(snakemake.wildcards[\"era_year\"])\n",
    "    ssp_year = int(snakemake.wildcards[\"ssp_year\"])\n",
    "    ssp_scenario = snakemake.wildcards[\"ssp\"]\n",
    "    rcp_scenario = snakemake.wildcards[\"rcp\"]\n",
    "    \n",
    "    with h5py.File(snakemake.input[\"demand\"], \"r\") as f:\n",
    "        demand = np.array(f[\"demand\"])\n",
    "\n",
    "    # Convert to xarray and add appropriate dimensions+coordinates\n",
    "    demand = xr.DataArray(demand,\n",
    "                    name=\"Electricity demand\",\n",
    "                    dims=[\"region\", \"time\"],\n",
    "                    coords={\n",
    "                        \"region\": region,\n",
    "                        \"time\":   pd.date_range(start=str(era_year),\n",
    "                                                end=str(era_year+1),\n",
    "                                                freq=\"H\",\n",
    "                                                closed=\"left\"\n",
    "                                               )\n",
    "                    },\n",
    "                    attrs={\n",
    "                        \"unit\":\"MWh\",\n",
    "                        \"energy carrier\":\"electricity\",\n",
    "                        \"description\":\"Projected electricity demand using GlobalEnergyGIS\",\n",
    "                        \"projection year\": ssp_year,\n",
    "                        \"weather data year (ERA5)\": era_year,\n",
    "                        \"SSP scenario\": f\"{ssp_scenario}\",\n",
    "                        \"RCP scenario\": f\"{rcp_scenario}\",\n",
    "                    }\n",
    "                )\n",
    "\n",
    "    demand.to_netcdf(snakemake.output[\"netcdf\"])\n",
    "    demand.to_dataframe().to_csv(snakemake.output[\"csv\"], sep=\";\", quotechar=\"\\\"\")"
   ]
  }
 ],
 "metadata": {
  "kernelspec": {
   "display_name": "Python 3 (ipykernel)",
   "language": "python",
   "name": "python3"
  },
  "language_info": {
   "codemirror_mode": {
    "name": "ipython",
    "version": 3
   },
   "file_extension": ".py",
   "mimetype": "text/x-python",
   "name": "python",
   "nbconvert_exporter": "python",
   "pygments_lexer": "ipython3",
   "version": "3.9.6"
  }
 },
 "nbformat": 4,
 "nbformat_minor": 5
}
